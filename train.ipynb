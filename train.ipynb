{
 "cells": [
  {
   "cell_type": "code",
   "execution_count": 1,
   "metadata": {
    "_cell_guid": "b1076dfc-b9ad-4769-8c92-a6c4dae69d19",
    "_uuid": "8f2839f25d086af736a60e9eeb907d3b93b6e0e5"
   },
   "outputs": [],
   "source": [
    "import pandas as pd\n",
    "import numpy as np\n",
    "from sklearn.model_selection import train_test_split\n",
    "from catboost import Pool, CatBoostClassifier, cv, CatBoostRegressor\n",
    "from sklearn.metrics import mean_squared_error, r2_score, f1_score\n",
    "from sklearn.neighbors import KNeighborsRegressor, KNeighborsClassifier\n",
    "import matplotlib.pyplot as plt\n",
    "from sklearn.preprocessing import StandardScaler\n",
    "from sklearn.ensemble import RandomForestRegressor, RandomForestClassifier, AdaBoostRegressor\n",
    "from sklearn.preprocessing import LabelEncoder\n",
    "from sklearn.inspection import permutation_importance\n",
    "from sklearn.preprocessing import RobustScaler\n",
    "from scipy.interpolate import interp1d\n",
    "from scipy.fft import fft\n",
    "from tqdm import tqdm\n",
    "from joblib import dump, load\n",
    "\n",
    "import os\n",
    "import copy\n",
    "\n",
    "import pickle\n"
   ]
  },
  {
   "cell_type": "code",
   "execution_count": 2,
   "metadata": {},
   "outputs": [],
   "source": [
    "class Ensemble:\n",
    "    def __init__(self, models, train, top_5_least_important, line=1, task=\"regr\"):\n",
    "        \n",
    "        x_coord = train['Дальность (м)'] * np.sin(train['Азимут']) * np.cos(train['У.М.'])\n",
    "        y_coord = train['Дальность (м)'] * np.cos(train['Азимут']) * np.cos(train['У.М.'])\n",
    "        z_coord = train['Дальность (м)'] * np.sin(train['У.М.'])\n",
    "        \n",
    "        train['x_coord'] = x_coord\n",
    "        train['y_coord'] = y_coord\n",
    "        train['z_coord'] = z_coord\n",
    "                \n",
    "        \n",
    "        self.train = train\n",
    "        self.models = models\n",
    "        self.top_5_least_important = top_5_least_important\n",
    "        self.task = task   \n",
    "        \n",
    "        \n",
    "        if self.task == 'regr':\n",
    "            self.X_train, self.X_test, self.y_train, self.y_test = train_test_split(self.train.drop('Доля сигнала в ВП', axis=1),\n",
    "                                                    train['Доля сигнала в ВП'], test_size=0.1, shuffle=True)\n",
    "        if self.task == 'class':\n",
    "            self.X_train, self.X_test, self.y_train, self.y_test = train_test_split(self.train.drop('Тип марсианина', axis=1),\n",
    "                                                    train['Тип марсианина'], test_size=0.1, shuffle=True)\n",
    "        self.train_cb = Pool(data=self.X_train,\n",
    "             label=self.y_train)\n",
    "        self.test_cb = Pool(data=self.X_test,\n",
    "             label=self.y_test)\n",
    "        self.line = line\n",
    "        #self.meta_model = meta_model\n",
    "    \n",
    "    \n",
    "    def fit(self):\n",
    "        scores = []\n",
    "        df = self.X_test.copy()\n",
    "        sums = 0\n",
    "        n = len(self.models)\n",
    "        for model, name in tqdm(self.models, desc='Обучение моделей', ncols=100):\n",
    "            if name[:2] != 'cb':\n",
    "                \n",
    "                model.fit(self.X_train, self.y_train)\n",
    "            else:\n",
    "                model.fit(self.train_cb)\n",
    "            preds = model.predict(self.X_test)\n",
    "            if self.task == 'regr':\n",
    "                score = r2_score(np.array(self.y_test), preds)*70\n",
    "            if self.task == 'class':\n",
    "                score = mean_squared_error(np.array(self.y_test), preds)\n",
    "            scores.append({name: score})\n",
    "            sums += preds\n",
    "        \n",
    "        if self.task == 'class':\n",
    "            sums /= n\n",
    "            sums[sums <= self.line] = 0\n",
    "            sums[sums > self.line] = 1\n",
    "            total_score = f1_score(np.array(self.y_test), sums)*30\n",
    "        if self.task == 'regr':\n",
    "            sums /= n\n",
    "#             self.pub_tests['Доля сигнала в ВП'] = sums\n",
    "            total_score = r2_score(np.array(self.y_test), sums)*70\n",
    "        \n",
    "\n",
    "            \n",
    "        return scores, total_score\n",
    "    \n",
    "    def predict(self, test):\n",
    "        n = len(self.models)\n",
    "        \n",
    "        x_coord = test['Дальность (м)'] * np.sin(test['Азимут']) * np.cos(test['У.М.'])\n",
    "        y_coord = test['Дальность (м)'] * np.cos(test['Азимут']) * np.cos(test['У.М.'])\n",
    "        z_coord = test['Дальность (м)'] * np.sin(test['У.М.'])\n",
    "        test['x_coord'] = x_coord\n",
    "        test['y_coord'] = y_coord\n",
    "        test['z_coord'] = z_coord\n",
    "        \n",
    "        \n",
    "        preds = []\n",
    "        for model, name in self.models:\n",
    "            preds_model = model.predict(test)\n",
    "            preds.append((name, preds_model))\n",
    "        \n",
    "        sums = 0\n",
    "        for name, pred in preds:\n",
    "            sums += pred\n",
    "        if self.task == 'class':\n",
    "            sums /= n\n",
    "            sums[sums <= self.line] = 0\n",
    "            sums[sums > self.line] = 1\n",
    "        if self.task == 'regr':\n",
    "            sums /= n\n",
    "        \n",
    "        return preds, sums\n",
    "            \n",
    "        "
   ]
  },
  {
   "cell_type": "code",
   "execution_count": null,
   "metadata": {},
   "outputs": [],
   "source": [
    "top_5_least_important = [\n",
    "    'Количество импульсов',\n",
    " 'Тип_измерения',\n",
    " '№ испытания',\n",
    " 'Фаза Hor',\n",
    " 'Фаза Ver'\n",
    "    \n",
    "            ]\n",
    "\n",
    "train = pd.read_csv('mars-train-regr.csv')\n",
    "pub_tests = pd.read_csv('mars-private_test-reg.csv')\n",
    "train_b = pd.read_csv('mars-train-class.csv')\n",
    "test_b = pd.read_csv('mars-public_test-class.csv')\n",
    "features = train.columns\n",
    "train_b = train_b[features]\n",
    "test_b = test_b[features]\n",
    "train_plus = pd.concat([train, train_b, test_b], axis=0, ignore_index=True)\n",
    "\n",
    "\n",
    "models = [\n",
    "    (CatBoostRegressor(**{\n",
    "            \"iterations\":10000,\n",
    "            \"depth\":11,\n",
    "            \"learning_rate\": 0.1,\n",
    "            \"loss_function\": \"RMSE\",\n",
    "            \"grow_policy\": \"Lossguide\",\n",
    "            \"early_stopping_rounds\":100,\n",
    "            \"verbose\": False,\n",
    "            \"l2_leaf_reg\": 1.4,\n",
    "            \"random_seed\": 1010\n",
    "            }), \"cb_1\"),\n",
    "    (CatBoostRegressor(**{\n",
    "            \"iterations\":10000,\n",
    "            \"depth\": 11,\n",
    "            \"learning_rate\": 0.1,\n",
    "            \"loss_function\": \"RMSE\",\n",
    "            \"grow_policy\": \"SymmetricTree\",\n",
    "            \"early_stopping_rounds\":100,\n",
    "            \"verbose\": False,\n",
    "            \"l2_leaf_reg\": 1.4,\n",
    "            \"random_seed\": 1011\n",
    "            }), \"cb_2\"),\n",
    "    (CatBoostRegressor(**{\n",
    "            \"iterations\":10000,\n",
    "            \"depth\": 11,\n",
    "            \"learning_rate\": 0.1,\n",
    "            \"loss_function\": \"RMSE\",\n",
    "            \"grow_policy\": \"Depthwise\",\n",
    "            \"early_stopping_rounds\":100,\n",
    "            \"verbose\": False,\n",
    "            \"l2_leaf_reg\": 1.4,\n",
    "            \"random_seed\": 1011\n",
    "            }), \"cb_3\"),\n",
    "    (RandomForestRegressor(n_estimators=1000, max_depth=19, n_jobs=-1, random_state=1010), \"rf_1\"),\n",
    "    (RandomForestRegressor(n_estimators=1000, max_depth=21, n_jobs=-1, random_state=1010), \"rf_2\"),\n",
    "    (RandomForestRegressor(n_estimators=1000, max_depth=20, n_jobs=-1, random_state=1010), \"rf_3\"),\n",
    "]\n",
    "        \n",
    "ensemble = Ensemble(models, train_plus, top_5_least_important, \"regr\")\n",
    "scores, total_score = ensemble.fit()\n",
    "\n",
    "    "
   ]
  },
  {
   "cell_type": "code",
   "execution_count": 5,
   "metadata": {},
   "outputs": [
    {
     "data": {
      "text/plain": [
       "62.5958349756209"
      ]
     },
     "execution_count": 5,
     "metadata": {},
     "output_type": "execute_result"
    }
   ],
   "source": [
    "total_score"
   ]
  },
  {
   "cell_type": "code",
   "execution_count": 6,
   "metadata": {},
   "outputs": [],
   "source": [
    "for i in range(3):\n",
    "    model, name = models[i]\n",
    "    model.save_model(name)"
   ]
  },
  {
   "cell_type": "code",
   "execution_count": 24,
   "metadata": {},
   "outputs": [],
   "source": [
    "with open(\"models_reg.joblib\", \"wb\") as file:\n",
    "    dump(models[3:], file)"
   ]
  },
  {
   "cell_type": "code",
   "execution_count": 4,
   "metadata": {},
   "outputs": [
    {
     "name": "stderr",
     "output_type": "stream",
     "text": [
      "Обучение моделей: 100%|██████████████████████████████████████████████| 3/3 [18:30<00:00, 370.00s/it]\n"
     ]
    }
   ],
   "source": [
    "train = pd.read_csv('mars-train-class.csv')\n",
    "pub_tests = pd.read_csv('mars-private_test-class.csv')\n",
    "\n",
    "\n",
    "models_class = [\n",
    "(CatBoostRegressor(**{\n",
    "        \"iterations\":10000,\n",
    "        \"depth\": 11,\n",
    "        \"learning_rate\": 0.1,\n",
    "        \"loss_function\": \"RMSE\",\n",
    "        \"grow_policy\": \"Lossguide\",\n",
    "        \"early_stopping_rounds\":100,\n",
    "        \"verbose\": False,\n",
    "        \"l2_leaf_reg\" : 1.4,\n",
    "        \"random_seed\": 1010\n",
    "        }), \"cb_class_1\"),\n",
    "        (CatBoostRegressor(**{\n",
    "        \"iterations\":10000,\n",
    "        \"depth\": 11,\n",
    "        \"learning_rate\": 0.1,\n",
    "        \"loss_function\": \"RMSE\",\n",
    "        \"grow_policy\": \"SymmetricTree\",\n",
    "        \"early_stopping_rounds\":100,\n",
    "        \"verbose\": False,\n",
    "        \"l2_leaf_reg\" : 1.4,\n",
    "        \"random_seed\": 1011\n",
    "        }), \"cb_class_2\"),\n",
    "    (CatBoostRegressor(**{\n",
    "        \"iterations\":10000,\n",
    "        \"depth\": 11,\n",
    "        \"learning_rate\": 0.1,\n",
    "        \"loss_function\": \"RMSE\",\n",
    "        \"grow_policy\": \"Depthwise\",\n",
    "        \"early_stopping_rounds\":100,\n",
    "        \"verbose\": False,\n",
    "        \"l2_leaf_reg\" : 1.4,\n",
    "        \"random_seed\": 1011\n",
    "        }), \"cb_class_3\"),\n",
    "     ]\n",
    "ensemble_class = Ensemble(models_class, train_plus, [], line=0.5, task='class')\n",
    "F1_scores, score = ensemble_class.fit()"
   ]
  },
  {
   "cell_type": "code",
   "execution_count": 5,
   "metadata": {},
   "outputs": [
    {
     "data": {
      "text/plain": [
       "29.985639061752035"
      ]
     },
     "execution_count": 5,
     "metadata": {},
     "output_type": "execute_result"
    }
   ],
   "source": [
    "score"
   ]
  },
  {
   "cell_type": "code",
   "execution_count": 7,
   "metadata": {},
   "outputs": [],
   "source": [
    "for i in range(3):\n",
    "    model, name = models_class[i]\n",
    "    model.save_model(name)"
   ]
  }
 ],
 "metadata": {
  "kernelspec": {
   "display_name": "Python 3 (ipykernel)",
   "language": "python",
   "name": "python3"
  },
  "language_info": {
   "codemirror_mode": {
    "name": "ipython",
    "version": 3
   },
   "file_extension": ".py",
   "mimetype": "text/x-python",
   "name": "python",
   "nbconvert_exporter": "python",
   "pygments_lexer": "ipython3",
   "version": "3.10.12"
  }
 },
 "nbformat": 4,
 "nbformat_minor": 4
}
